{
 "metadata": {
  "name": "Untitled0"
 },
 "nbformat": 3,
 "nbformat_minor": 0,
 "worksheets": [
  {
   "cells": [
    {
     "cell_type": "code",
     "collapsed": false,
     "input": "fields = [\n  \"edad\",  # la decena, Nx\n  \"estudia\",  # algo relacionado con la inform\u00e1tica\n  \"trabaja\",  # en general\n  \"t.inform\",  # si trabaja en algo relacionado con la inform\u00e1tica\n  \"t.python\",  # si trabaja en algo relacionado con Python\n  \"ciudad\",  # donde vive\n  \"1erPyCam\",  # si es el primer PyCamp al que asiste\n  \"1erEvento\",  # si es el primer evento de PyAr al que viene (cuentan los PyDays, reuniones, etc)\n ]\n\ncities = {\n  'B': u\"Buenos Aires\",\n  'C': u\"C\u00f3rdoba\",\n  'R': u\"Rosario\",\n  'Q': u\"Quintana\",\n  'P': u\"Pergamino\",\n  'M': u\"Merlo\",\n  'F': u\"Rafaela\",\n  'S': u\"Santa Fe\",\n}  \n  \ndata = \"\"\"\n3222 2222 1212 3222 3232 3323 23232 2322 2222 2222\n...+ +... ..++ .+++ .+.. .... +..++ +.+. +.+. ...+\n++++ +.++ .+.+ +... ++++ ++++ +++++ ++++ ++.+ ++++\n++++ +.++ .+.+ +... ++++ ++++ +++++ ++++ ++.+ ++++\n++++ +.++ .+.+ +... ++++ +++. +++++ ++++ +..+ +.++\nBBBB CBBC BRBR BCCC QPBC CCCB CBRCB MBBF BBCS BRRC\n..++ ++++ ++++ .+++ .+.. ...+ +..++ +++. .... .++.\n.... .+.. .... .... .... .... ...+. .... .... ....\n\"\"\"\n\ndata = dict(zip(fields, (x.replace(\" \", \"\") for x in data.split(\"\\n\") if x)))\nfor field in set(fields) - set((\"edad\", \"ciudad\")):\n    data[field] = [x == '+' for x in data[field]]\ndata[\"edad\"] = list(data[\"edad\"])\ndata[\"ciudad\"] = [cities[x] for x in data[\"ciudad\"]]\n\nfrom collections import Counter\n\nc = Counter(data[\"edad\"])\nprint \"Edades:\", c\n\nc = Counter(data[\"ciudad\"])\nprint \"Ciudades:\", c\n\nprint \"Estudian?\", Counter(data[\"estudia\"])\nprint \"Trabajan?\", Counter(data[\"trabaja\"])",
     "language": "python",
     "metadata": {},
     "outputs": [
      {
       "output_type": "stream",
       "stream": "stdout",
       "text": "Edades: Counter({'2': 29, '3': 10, '1': 2})\nCiudades: Counter({u'Buenos Aires': 18, u'C\\xf3rdoba': 13, u'Rosario': 5, u'Quintana': 1, u'Santa Fe': 1, u'Pergamino': 1, u'Rafaela': 1, u'Merlo': 1})\nEstudian? Counter({False: 25, True: 16})\nTrabajan? Counter({True: 34, False: 7})\n"
      }
     ],
     "prompt_number": 12
    }
   ],
   "metadata": {}
  }
 ]
}